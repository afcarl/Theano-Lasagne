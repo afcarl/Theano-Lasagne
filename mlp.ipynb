{
 "cells": [
  {
   "cell_type": "code",
   "execution_count": null,
   "metadata": {
    "collapsed": true
   },
   "outputs": [],
   "source": [
    "import numpy as np\n",
    "import theano\n",
    "import theano.tensor as T\n",
    "import lasagne\n",
    "from sklearn.datasets import make_classification"
   ]
  },
  {
   "cell_type": "code",
   "execution_count": null,
   "metadata": {
    "collapsed": true
   },
   "outputs": [],
   "source": [
    "#Start off by creating some toy data. \n",
    "X, y = make_classification(10000, n_features=2, n_redundant=0, n_classes=4,\n",
    "                       n_clusters_per_class=1)\n",
    "# Convert to theano floatX.\n",
    "X = X.astype(theano.config.floatX)\n",
    "# Labels should be ints.\n",
    "y = y.astype('int32')\n",
    "X_train, X_val, X_test = X[:7500], X[7500:8000], X[8000:]\n",
    "y_train, y_val, y_test = y[:7500], y[7500:8000], y[8000:]"
   ]
  },
  {
   "cell_type": "code",
   "execution_count": null,
   "metadata": {
    "collapsed": true
   },
   "outputs": [],
   "source": [
    "#Create a multilayer perceptron with mini-batch GD using theano and lasagne.\n",
    "\n",
    "def basic_mlp(X_train, y_train, X_val, y_val, X_test, hidden_units=40,\n",
    "              n_classes=4, batch_size=100):    \n",
    "    #First, construct an input layer.\n",
    "    #The shape parameter defines the expected input shape,\n",
    "    #which is just the shape of our data matrix X_train.\n",
    "    l_in = lasagne.layers.InputLayer(shape=X_train.shape)\n",
    "\n",
    "    #We'll create a network with two dense layers.\n",
    "    #One hidden layer and one output layer.\n",
    "    #hidden units are set arbitarily by the user\n",
    "    #in the output layer num_units should equal the number of classes.\n",
    "    l_hidden = lasagne.layers.DenseLayer(\n",
    "        l_in,\n",
    "        num_units=hidden_units,\n",
    "        nonlinearity=lasagne.nonlinearities.rectify)\n",
    "\n",
    "    l_output = lasagne.layers.DenseLayer(\n",
    "        l_hidden, num_units=n_classes,\n",
    "        nonlinearity=lasagne.nonlinearities.softmax)\n",
    "\n",
    "    #To actually compute the Theano expression of a stack of Layer subclass\n",
    "    #instances use the get_output function.\n",
    "    net_output = lasagne.layers.get_output(l_output)\n",
    "\n",
    "    #create a loss function.\n",
    "    true_output = T.ivector('true_output')\n",
    "    loss = T.mean(lasagne.objectives.categorical_crossentropy(net_output,\n",
    "                                                              true_output))\n",
    "    #generate parameter updates.\n",
    "    all_params = lasagne.layers.get_all_params(l_output)\n",
    "    updates = lasagne.updates.sgd(loss, all_params, learning_rate=1)\n",
    "    \n",
    "    #compile Theano functions for training and computing the output.\n",
    "    train = theano.function([l_in.input_var, true_output], loss, updates=updates)\n",
    "    get_output = theano.function([l_in.input_var], net_output)      \n",
    "    \n",
    "    n_epochs = 10\n",
    "    batch_id = 0\n",
    "    epoch = 0\n",
    "\n",
    "    while epoch < n_epochs:\n",
    "        #extract the training data for X and y.\n",
    "        batch_train_X = X_train[batch_id:batch_id + batch_size]\n",
    "        batch_train_y = y_train[batch_id:batch_id + batch_size]\n",
    "        #update the parameters using the extracted data.\n",
    "        train(batch_train_X, batch_train_y)\n",
    "        batch_id += batch_size\n",
    "        #once we've trained on the entire dataset we can check the accuarcy\n",
    "        #of the model against the validation set.\n",
    "\n",
    "        if batch_id >= X_train.shape[0]:\n",
    "            #reset batch index.\n",
    "            batch_id = 0\n",
    "            #update the number of epochs.\n",
    "            epoch += 1\n",
    "            #compute the network's output on the validation data.\n",
    "            val_output = get_output(X_val)\n",
    "            #the predicted class is the index of the largest probability\n",
    "            #in the output.\n",
    "            val_predictions = np.argmax(val_output, axis=1)\n",
    "            #the accuarcy is the average number of correct predictions.\n",
    "            accuracy = np.mean(val_predictions==y_val)\n",
    "            print(\"Epoch {} validation accuracy: {}\".format(epoch, accuracy))\n",
    "               \n",
    "    test_size = len(X_test)\n",
    "    batch_id = 0\n",
    "    results = []\n",
    "\n",
    "    while batch_id < test_size:\n",
    "        #extract the test data\n",
    "        batch_test_x = X_test[batch_id:batch_id + batch_size]\n",
    "        #compute the network's output on the test data\n",
    "        test_output = get_output(batch_test_x)\n",
    "        #the predicted class is the index with the largest probability in the\n",
    "        #output.\n",
    "        test_predictions = np.argmax(test_output, axis=1)\n",
    "        #append the results to the list above.\n",
    "        results.extend(test_predictions)\n",
    "        #increase the batch_id\n",
    "        batch_id += batch_size\n",
    "        \n",
    "    #save the predictions as a csv using numpy's savetxt.\n",
    "    np.savetxt(\"numpy_test.csv\", results, delimiter=\",\", fmt=\"%2i\")"
   ]
  },
  {
   "cell_type": "code",
   "execution_count": null,
   "metadata": {
    "collapsed": true
   },
   "outputs": [],
   "source": [
    "def check_prediction_accuracy(y_test):\n",
    "    #load the predictions made in the function above using numpy's genfromtxt.\n",
    "    preds = np.genfromtxt(\"numpy_test.csv\")\n",
    "    accuracy = np.mean(preds==y_test)\n",
    "    return accuracy"
   ]
  }
 ],
 "metadata": {
  "anaconda-cloud": {},
  "kernelspec": {
   "display_name": "Python [theanoGPU]",
   "language": "python",
   "name": "Python [theanoGPU]"
  },
  "language_info": {
   "codemirror_mode": {
    "name": "ipython",
    "version": 3
   },
   "file_extension": ".py",
   "mimetype": "text/x-python",
   "name": "python",
   "nbconvert_exporter": "python",
   "pygments_lexer": "ipython3",
   "version": "3.4.5"
  }
 },
 "nbformat": 4,
 "nbformat_minor": 0
}
